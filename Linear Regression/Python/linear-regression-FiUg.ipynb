{
 "cells": [
  {
   "cell_type": "code",
   "execution_count": null,
   "metadata": {
    "collapsed": true
   },
   "outputs": [],
   "source": [
    "\"\"\"\n",
    "Created on Friday March  2, 2018\n",
    "@author: Joshua Olayemi\n",
    "\"\"\"\n",
    "\n",
    "# Import the needed libraries\n",
    "import matplotlib.pyplot as plt # for the creating plots\n",
    "import pandas as pd # for working with dataframes\n",
    "import numpy as np"
   ]
  },
  {
   "cell_type": "code",
   "execution_count": 2,
   "metadata": {},
   "outputs": [
    {
     "ename": "NameError",
     "evalue": "name 'pd' is not defined",
     "traceback": [
      "\u001b[1;31m---------------------------------------------------------------------------\u001b[0m",
      "\u001b[1;31mNameError\u001b[0m                                 Traceback (most recent call last)",
      "\u001b[1;32m<ipython-input-2-1ebea06bad6b>\u001b[0m in \u001b[0;36m<module>\u001b[1;34m()\u001b[0m\n\u001b[0;32m      1\u001b[0m \u001b[1;31m# Load our dataset\u001b[0m\u001b[1;33m\u001b[0m\u001b[1;33m\u001b[0m\u001b[0m\n\u001b[1;32m----> 2\u001b[1;33m \u001b[0mdataset\u001b[0m \u001b[1;33m=\u001b[0m \u001b[0mpd\u001b[0m\u001b[1;33m.\u001b[0m\u001b[0mread_csv\u001b[0m\u001b[1;33m(\u001b[0m\u001b[1;34m'economic-data-africa.csv'\u001b[0m\u001b[1;33m,\u001b[0m \u001b[0msep\u001b[0m\u001b[1;33m=\u001b[0m\u001b[1;34m';'\u001b[0m\u001b[1;33m,\u001b[0m \u001b[0mencoding\u001b[0m\u001b[1;33m=\u001b[0m\u001b[1;34m'ISO-8859-1'\u001b[0m\u001b[1;33m)\u001b[0m\u001b[1;33m\u001b[0m\u001b[0m\n\u001b[0m\u001b[0;32m      3\u001b[0m \u001b[0mdataset\u001b[0m\u001b[1;33m.\u001b[0m\u001b[0mshape\u001b[0m\u001b[1;33m(\u001b[0m\u001b[1;33m)\u001b[0m\u001b[1;33m\u001b[0m\u001b[0m\n\u001b[0;32m      4\u001b[0m \u001b[0mdataset\u001b[0m\u001b[1;33m.\u001b[0m\u001b[0mhead\u001b[0m\u001b[1;33m(\u001b[0m\u001b[1;36m5\u001b[0m\u001b[1;33m)\u001b[0m\u001b[1;33m\u001b[0m\u001b[0m\n\u001b[0;32m      5\u001b[0m \u001b[0mdataset\u001b[0m \u001b[1;33m=\u001b[0m \u001b[0mdataset\u001b[0m\u001b[1;33m[\u001b[0m\u001b[1;34m'GovExpenditurePerc'\u001b[0m\u001b[1;33m>\u001b[0m\u001b[1;36m80\u001b[0m\u001b[1;33m]\u001b[0m\u001b[1;33m\u001b[0m\u001b[0m\n",
      "\u001b[1;31mNameError\u001b[0m: name 'pd' is not defined"
     ],
     "output_type": "error"
    }
   ],
   "source": [
    "# Load our dataset and see how it looks like\n",
    "dataset = pd.read_csv('economic-data-africa.csv', sep=';', encoding='ISO-8859-1')\n",
    "dataset.shape\n",
    "dataset.head(5)"
   ]
  },
  {
   "cell_type": "code",
   "execution_count": null,
   "metadata": {},
   "outputs": [],
   "source": [
    "# Remove the outlier rows\n",
    "dataset = dataset.loc[dataset['GovExpenditurePerc'] < 80]\n",
    "dataset.shape"
   ]
  },
  {
   "cell_type": "code",
   "execution_count": null,
   "metadata": {},
   "outputs": [],
   "source": [
    "X = dataset['GovExpenditurePerc']\n",
    "y = dataset['UnemploymentPerc']"
   ]
  },
  {
   "cell_type": "code",
   "execution_count": null,
   "metadata": {},
   "outputs": [],
   "source": [
    "# First we split the data into a training and test set, 80:20\n",
    "# Random state ensures that we have the same random split in all our runs\n",
    "from sklearn.model_selection import train_test_split\n",
    "X_train, X_test, y_train, y_test = train_test_split(X, y, test_size=.20, random_state=00)\n",
    "\n",
    "# Next we need to reshape the array since sklearn library requires a 2D array\n",
    "X1_train = X_train.values.reshape(-1, 1)"
   ]
  },
  {
   "cell_type": "code",
   "execution_count": null,
   "metadata": {},
   "outputs": [],
   "source": [
    "# Fitting a simple Linear Regression to the Training set\n",
    "from sklearn.linear_model import LinearRegression\n",
    "# First create a LinearRegression object\n",
    "regressor = LinearRegression()\n",
    "regressor.fit(X1_train, y_train)"
   ]
  },
  {
   "cell_type": "code",
   "execution_count": null,
   "metadata": {},
   "outputs": [],
   "source": [
    "# Return coefficient of determination - check these\n",
    "print(regressor.coef_) # the slope\n",
    "print(regressor.intercept_) # the intercept"
   ]
  },
  {
   "cell_type": "code",
   "execution_count": null,
   "metadata": {},
   "outputs": [],
   "source": [
    "mseTrain = np.mean((y_train - regressor.predict(X1_train)) ** 2)"
   ]
  },
  {
   "cell_type": "code",
   "execution_count": null,
   "metadata": {},
   "outputs": [],
   "source": [
    "# Visualise the linear regression line (in blue) on the training set.\n",
    "# We also add the coefficients for illustration\n",
    "plt.scatter(X1_train, y_train, color = 'red')\n",
    "plt.plot(X1_train, regressor.predict(X1_train), color ='blue')\n",
    "plt.title('Unemployment vs Government Expenditure (Training set): ' + \"\\n\" +\n",
    "          'Mean Squared Error = ' + str(round(mseTrain, 2)))\n",
    "plt.xlabel('Government Expenditure (%)')\n",
    "plt.ylabel('Unemployment (%)')\n",
    "plt.show()"
   ]
  },
  {
   "cell_type": "code",
   "execution_count": null,
   "metadata": {},
   "outputs": [],
   "source": [
    "# Let's use the linear model to predict unemployment on the test set\n",
    "# First reshape the test set into a 2D array as well\n",
    "X1_test = X_test.values.reshape(-1,1)\n",
    "\n",
    "# performing the prediction\n",
    "y_pred = regressor.predict(X1_test)\n",
    "\n",
    "# Based on, how well did our model do?\n",
    "# Let's look at the mean-squared errors and plot it\n",
    "mseTest = np.mean((y_test - y_pred) ** 2)\n"
   ]
  },
  {
   "cell_type": "code",
   "execution_count": null,
   "metadata": {},
   "outputs": [],
   "source": [
    "# Let's visualise our predicted values in comparison to the original values\n",
    "plt.scatter(X1_test, y_test, color='green')\n",
    "plt.scatter(X1_test, y_pred, color='red')\n",
    "plt.title('Unemployment vs Government Expenditure (Test set): ' + \"\\n\" +\n",
    "          'Mean Squared Error = ' + str(round(mseTest, 2)))\n",
    "plt.xlabel('Government expenditure (%)')\n",
    "plt.ylabel('Unemployment (%)')\n",
    "plt.show()"
   ]
  },
  {
   "cell_type": "code",
   "execution_count": null,
   "metadata": {},
   "outputs": [],
   "source": [
    "# Our MSE is 43. What we want is a balance between overfit \n",
    "# (very low MSE for training data) \n",
    "# and underfit (very high MSE for test/validation/unseen data). \n",
    "# \n",
    "# In our data, we found a linear relationship which showed that Linear regression\n",
    "# was a good approach. But we also need to compare with other methods to see if\n",
    "# this really perfoms the best.\n",
    "\n",
    "# An advantage of R over Python perhaps is also the visualization with ggplot2, \n",
    "# shiny etc.\n",
    "\n"
   ]
  }
 ],
 "metadata": {
  "kernelspec": {
   "display_name": "Python 2",
   "language": "python",
   "name": "python2"
  },
  "language_info": {
   "codemirror_mode": {
    "name": "ipython",
    "version": 2
   },
   "file_extension": ".py",
   "mimetype": "text/x-python",
   "name": "python",
   "nbconvert_exporter": "python",
   "pygments_lexer": "ipython2",
   "version": "2.7.6"
  }
 },
 "nbformat": 4,
 "nbformat_minor": 0
}
