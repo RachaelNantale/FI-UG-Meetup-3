{
 "cells": [
  {
   "cell_type": "code",
   "execution_count": 1,
   "metadata": {},
   "outputs": [],
   "source": [
    "\"\"\"\n",
    "Created on Friday March  2, 2018\n",
    "@author: Joshua Olayemi\n",
    "\"\"\"\n",
    "\n",
    "# Import the needed libraries\n",
    "import matplotlib.pyplot as plt # for the creating plots\n",
    "import pandas as pd # for working with dataframes\n",
    "import numpy as np"
   ]
  },
  {
   "cell_type": "code",
   "execution_count": 2,
   "metadata": {},
   "outputs": [
    {
     "data": {
      "text/html": [
       "<div>\n",
       "<style scoped>\n",
       "    .dataframe tbody tr th:only-of-type {\n",
       "        vertical-align: middle;\n",
       "    }\n",
       "\n",
       "    .dataframe tbody tr th {\n",
       "        vertical-align: top;\n",
       "    }\n",
       "\n",
       "    .dataframe thead th {\n",
       "        text-align: right;\n",
       "    }\n",
       "</style>\n",
       "<table border=\"1\" class=\"dataframe\">\n",
       "  <thead>\n",
       "    <tr style=\"text-align: right;\">\n",
       "      <th></th>\n",
       "      <th>CountryName</th>\n",
       "      <th>GovExpenditurePerc</th>\n",
       "      <th>UnemploymentPerc</th>\n",
       "    </tr>\n",
       "  </thead>\n",
       "  <tbody>\n",
       "    <tr>\n",
       "      <th>0</th>\n",
       "      <td>Algeria</td>\n",
       "      <td>42</td>\n",
       "      <td>11</td>\n",
       "    </tr>\n",
       "    <tr>\n",
       "      <th>1</th>\n",
       "      <td>Angola</td>\n",
       "      <td>32</td>\n",
       "      <td>7</td>\n",
       "    </tr>\n",
       "    <tr>\n",
       "      <th>2</th>\n",
       "      <td>Benin</td>\n",
       "      <td>22</td>\n",
       "      <td>1</td>\n",
       "    </tr>\n",
       "    <tr>\n",
       "      <th>3</th>\n",
       "      <td>Botswana</td>\n",
       "      <td>35</td>\n",
       "      <td>18</td>\n",
       "    </tr>\n",
       "    <tr>\n",
       "      <th>4</th>\n",
       "      <td>Burkina Faso</td>\n",
       "      <td>23</td>\n",
       "      <td>3</td>\n",
       "    </tr>\n",
       "  </tbody>\n",
       "</table>\n",
       "</div>"
      ],
      "text/plain": [
       "    CountryName  GovExpenditurePerc  UnemploymentPerc\n",
       "0       Algeria                  42                11\n",
       "1        Angola                  32                 7\n",
       "2         Benin                  22                 1\n",
       "3      Botswana                  35                18\n",
       "4  Burkina Faso                  23                 3"
      ]
     },
     "execution_count": 2,
     "metadata": {},
     "output_type": "execute_result"
    }
   ],
   "source": [
    "# Load our dataset and see how it looks like\n",
    "dataset = pd.read_csv('economic-data-africa.csv', sep=';', encoding='ISO-8859-1')\n",
    "dataset.shape\n",
    "dataset.head(5)"
   ]
  },
  {
   "cell_type": "code",
   "execution_count": 3,
   "metadata": {},
   "outputs": [
    {
     "data": {
      "text/plain": [
       "(50, 3)"
      ]
     },
     "execution_count": 3,
     "metadata": {},
     "output_type": "execute_result"
    }
   ],
   "source": [
    "# Remove the outlier rows\n",
    "dataset = dataset.loc[dataset['GovExpenditurePerc'] < 80]\n",
    "dataset.shape"
   ]
  },
  {
   "cell_type": "code",
   "execution_count": 4,
   "metadata": {},
   "outputs": [],
   "source": [
    "X = dataset['GovExpenditurePerc']\n",
    "y = dataset['UnemploymentPerc']"
   ]
  },
  {
   "cell_type": "code",
   "execution_count": 5,
   "metadata": {},
   "outputs": [],
   "source": [
    "# First we split the data into a training and test set, 80:20\n",
    "# Random state ensures that we have the same random split in all our runs\n",
    "from sklearn.model_selection import train_test_split\n",
    "X_train, X_test, y_train, y_test = train_test_split(X, y, test_size=.20, random_state=00)\n",
    "\n",
    "# Next we need to reshape the array since sklearn library requires a 2D array\n",
    "X1_train = X_train.values.reshape(-1, 1)"
   ]
  },
  {
   "cell_type": "code",
   "execution_count": 6,
   "metadata": {},
   "outputs": [
    {
     "data": {
      "text/plain": [
       "LinearRegression(copy_X=True, fit_intercept=True, n_jobs=1, normalize=False)"
      ]
     },
     "execution_count": 6,
     "metadata": {},
     "output_type": "execute_result"
    }
   ],
   "source": [
    "# Fitting a simple Linear Regression to the Training set\n",
    "from sklearn.linear_model import LinearRegression\n",
    "# First create a LinearRegression object\n",
    "regressor = LinearRegression()\n",
    "regressor.fit(X1_train, y_train)"
   ]
  },
  {
   "cell_type": "code",
   "execution_count": 7,
   "metadata": {},
   "outputs": [
    {
     "name": "stdout",
     "output_type": "stream",
     "text": [
      "[0.33058722]\n",
      "0.8284703168542382\n"
     ]
    }
   ],
   "source": [
    "# Return coefficient of determination - check these\n",
    "print(regressor.coef_) # the slope\n",
    "print(regressor.intercept_) # the intercept"
   ]
  },
  {
   "cell_type": "code",
   "execution_count": 8,
   "metadata": {},
   "outputs": [],
   "source": [
    "mseTrain = np.mean((y_train - regressor.predict(X1_train)) ** 2)"
   ]
  },
  {
   "cell_type": "code",
   "execution_count": 9,
   "metadata": {},
   "outputs": [
    {
     "data": {
      "image/png": "[encoded data removed]",
      "text/plain": [
       "<matplotlib.figure.Figure at 0x2017a45cfd0>"
      ]
     },
     "metadata": {},
     "output_type": "display_data"
    }
   ],
   "source": [
    "# Visualise the linear regression line (in blue) on the training set.\n",
    "# We also add the coefficients for illustration\n",
    "plt.scatter(X1_train, y_train, color = 'red')\n",
    "plt.plot(X1_train, regressor.predict(X1_train), color ='blue')\n",
    "plt.title('Unemployment vs Government Expenditure (Training set): ' + \"\\n\" +\n",
    "          'Mean Squared Error = ' + str(round(mseTrain, 2)))\n",
    "plt.xlabel('Government Expenditure (%)')\n",
    "plt.ylabel('Unemployment (%)')\n",
    "plt.show()"
   ]
  },
  {
   "cell_type": "code",
   "execution_count": 10,
   "metadata": {},
   "outputs": [],
   "source": [
    "# Let's use the linear model to predict unemployment on the test set\n",
    "# First reshape the test set into a 2D array as well\n",
    "X1_test = X_test.values.reshape(-1,1)\n",
    "\n",
    "# performing the prediction\n",
    "y_pred = regressor.predict(X1_test)\n",
    "\n",
    "# Based on, how well did our model do?\n",
    "# Let's look at the mean-squared errors and plot it\n",
    "mseTest = np.mean((y_test - y_pred) ** 2)\n"
   ]
  },
  {
   "cell_type": "code",
   "execution_count": 11,
   "metadata": {},
   "outputs": [
    {
     "data": {
      "image/png": "[encoded data removed]",
      "text/plain": [
       "<matplotlib.figure.Figure at 0x2017a49fdd8>"
      ]
     },
     "metadata": {},
     "output_type": "display_data"
    }
   ],
   "source": [
    "# Let's visualise our predicted values in comparison to the original values\n",
    "plt.scatter(X1_test, y_test, color='green')\n",
    "plt.scatter(X1_test, y_pred, color='red')\n",
    "plt.title('Unemployment vs Government Expenditure (Test set): ' + \"\\n\" +\n",
    "          'Mean Squared Error = ' + str(round(mseTest, 2)))\n",
    "plt.xlabel('Government expenditure (%)')\n",
    "plt.ylabel('Unemployment (%)')\n",
    "plt.show()"
   ]
  },
  {
   "cell_type": "code",
   "execution_count": null,
   "metadata": {},
   "outputs": [],
   "source": [
    "# Our MSE is 43. What we want is a balance between overfit \n",
    "# (very low MSE for training data) \n",
    "# and underfit (very high MSE for test/validation/unseen data). \n",
    "# \n",
    "# In our data, we found a linear relationship which showed that Linear regression\n",
    "# was a good approach. But we also need to compare with other methods to see if\n",
    "# this really perfoms the best.\n",
    "\n",
    "# An advantage of R over Python perhaps is also the visualization with ggplot2, \n",
    "# shiny etc.\n",
    "\n"
   ]
  }
 ],
 "metadata": {
  "kernelspec": {
   "display_name": "Python 3",
   "language": "python",
   "name": "python3"
  },
  "language_info": {
   "codemirror_mode": {
    "name": "ipython",
    "version": 3
   },
   "file_extension": ".py",
   "mimetype": "text/x-python",
   "name": "python",
   "nbconvert_exporter": "python",
   "pygments_lexer": "ipython3",
   "version": "3.6.4"
  }
 },
 "nbformat": 4,
 "nbformat_minor": 1
}
